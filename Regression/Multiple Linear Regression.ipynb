{
 "cells": [
  {
   "cell_type": "code",
   "execution_count": 1,
   "id": "lovely-sheffield",
   "metadata": {},
   "outputs": [],
   "source": [
    "import numpy as np\n",
    "import pandas as pd"
   ]
  },
  {
   "cell_type": "code",
   "execution_count": 2,
   "id": "solid-culture",
   "metadata": {},
   "outputs": [
    {
     "data": {
      "text/html": [
       "<div>\n",
       "<style scoped>\n",
       "    .dataframe tbody tr th:only-of-type {\n",
       "        vertical-align: middle;\n",
       "    }\n",
       "\n",
       "    .dataframe tbody tr th {\n",
       "        vertical-align: top;\n",
       "    }\n",
       "\n",
       "    .dataframe thead th {\n",
       "        text-align: right;\n",
       "    }\n",
       "</style>\n",
       "<table border=\"1\" class=\"dataframe\">\n",
       "  <thead>\n",
       "    <tr style=\"text-align: right;\">\n",
       "      <th></th>\n",
       "      <th>id</th>\n",
       "      <th>date</th>\n",
       "      <th>price</th>\n",
       "      <th>bedrooms</th>\n",
       "      <th>bathrooms</th>\n",
       "      <th>sqft_living</th>\n",
       "      <th>sqft_lot</th>\n",
       "      <th>floors</th>\n",
       "      <th>sqft_above</th>\n",
       "      <th>sqft_basement</th>\n",
       "    </tr>\n",
       "  </thead>\n",
       "  <tbody>\n",
       "    <tr>\n",
       "      <th>0</th>\n",
       "      <td>7129300520</td>\n",
       "      <td>20141013T000000</td>\n",
       "      <td>221900</td>\n",
       "      <td>3</td>\n",
       "      <td>1.00</td>\n",
       "      <td>1180</td>\n",
       "      <td>5650</td>\n",
       "      <td>1.0</td>\n",
       "      <td>1180</td>\n",
       "      <td>0</td>\n",
       "    </tr>\n",
       "    <tr>\n",
       "      <th>1</th>\n",
       "      <td>6414100192</td>\n",
       "      <td>20141209T000000</td>\n",
       "      <td>538000</td>\n",
       "      <td>3</td>\n",
       "      <td>2.25</td>\n",
       "      <td>2570</td>\n",
       "      <td>7242</td>\n",
       "      <td>2.0</td>\n",
       "      <td>2170</td>\n",
       "      <td>400</td>\n",
       "    </tr>\n",
       "    <tr>\n",
       "      <th>2</th>\n",
       "      <td>5631500400</td>\n",
       "      <td>20150225T000000</td>\n",
       "      <td>180000</td>\n",
       "      <td>2</td>\n",
       "      <td>1.00</td>\n",
       "      <td>770</td>\n",
       "      <td>10000</td>\n",
       "      <td>1.0</td>\n",
       "      <td>770</td>\n",
       "      <td>0</td>\n",
       "    </tr>\n",
       "    <tr>\n",
       "      <th>3</th>\n",
       "      <td>2487200875</td>\n",
       "      <td>20141209T000000</td>\n",
       "      <td>604000</td>\n",
       "      <td>4</td>\n",
       "      <td>3.00</td>\n",
       "      <td>1960</td>\n",
       "      <td>5000</td>\n",
       "      <td>1.0</td>\n",
       "      <td>1050</td>\n",
       "      <td>910</td>\n",
       "    </tr>\n",
       "    <tr>\n",
       "      <th>4</th>\n",
       "      <td>1954400510</td>\n",
       "      <td>20150218T000000</td>\n",
       "      <td>510000</td>\n",
       "      <td>3</td>\n",
       "      <td>2.00</td>\n",
       "      <td>1680</td>\n",
       "      <td>8080</td>\n",
       "      <td>1.0</td>\n",
       "      <td>1680</td>\n",
       "      <td>0</td>\n",
       "    </tr>\n",
       "  </tbody>\n",
       "</table>\n",
       "</div>"
      ],
      "text/plain": [
       "           id             date   price  bedrooms  bathrooms  sqft_living  \\\n",
       "0  7129300520  20141013T000000  221900         3       1.00         1180   \n",
       "1  6414100192  20141209T000000  538000         3       2.25         2570   \n",
       "2  5631500400  20150225T000000  180000         2       1.00          770   \n",
       "3  2487200875  20141209T000000  604000         4       3.00         1960   \n",
       "4  1954400510  20150218T000000  510000         3       2.00         1680   \n",
       "\n",
       "   sqft_lot  floors  sqft_above  sqft_basement  \n",
       "0      5650     1.0        1180              0  \n",
       "1      7242     2.0        2170            400  \n",
       "2     10000     1.0         770              0  \n",
       "3      5000     1.0        1050            910  \n",
       "4      8080     1.0        1680              0  "
      ]
     },
     "execution_count": 2,
     "metadata": {},
     "output_type": "execute_result"
    }
   ],
   "source": [
    "dataset = pd.read_csv('kc_house_data.csv')\n",
    "dataset.head()"
   ]
  },
  {
   "cell_type": "code",
   "execution_count": 3,
   "id": "ruled-bidding",
   "metadata": {},
   "outputs": [],
   "source": [
    "dataset = dataset.drop(['id','date'], axis = 1)"
   ]
  },
  {
   "cell_type": "code",
   "execution_count": 4,
   "id": "respected-fisher",
   "metadata": {},
   "outputs": [],
   "source": [
    "X = dataset.iloc[:,1:].values\n",
    "y = dataset.iloc[:,0].values"
   ]
  },
  {
   "cell_type": "code",
   "execution_count": 5,
   "id": "curious-caution",
   "metadata": {},
   "outputs": [],
   "source": [
    "from sklearn.model_selection import train_test_split\n",
    "X_train, X_test, y_train, y_test = train_test_split(X, y, test_size = 1/3, random_state = 0)"
   ]
  },
  {
   "cell_type": "code",
   "execution_count": 6,
   "id": "natural-establishment",
   "metadata": {},
   "outputs": [],
   "source": [
    "from sklearn.linear_model import LinearRegression\n",
    "regressor = LinearRegression()\n",
    "regressor.fit(X_train, y_train)\n",
    "\n",
    "# Predicting the Test set results\n",
    "y_pred = regressor.predict(X_test)"
   ]
  },
  {
   "cell_type": "code",
   "execution_count": 7,
   "id": "latin-healing",
   "metadata": {},
   "outputs": [
    {
     "name": "stdout",
     "output_type": "stream",
     "text": [
      "[[ 501423.43  250000.  ]\n",
      " [ 703686.87  653000.  ]\n",
      " [ 440967.89  380000.  ]\n",
      " [ 304270.19  532170.  ]\n",
      " [1017715.56  921500.  ]\n",
      " [ 574109.69  360000.  ]\n",
      " [ 833599.43  488000.  ]\n",
      " [ 438251.87  320000.  ]\n",
      " [1114644.68 1072000.  ]\n",
      " [ 696928.9   465000.  ]\n",
      " [ 518552.12  247500.  ]\n",
      " [ 458176.1   297000.  ]\n",
      " [ 444522.79  356000.  ]\n",
      " [ 433541.04  399950.  ]\n",
      " [ 462231.35  438000.  ]\n",
      " [ 264125.98  470000.  ]\n",
      " [ 712659.94  885000.  ]\n",
      " [ 281011.6   518500.  ]\n",
      " [ 315017.7   516500.  ]\n",
      " [ 323447.71  153000.  ]\n",
      " [ 328822.42  226500.  ]\n",
      " [ 321758.52  199000.  ]\n",
      " [ 907941.67  900000.  ]\n",
      " [ 234627.83  335000.  ]\n",
      " [ 349301.15  309000.  ]\n",
      " [ 264255.22  425000.  ]\n",
      " [ 594545.88  640000.  ]\n",
      " [ 303279.36  570000.  ]\n",
      " [ 358163.83  549000.  ]\n",
      " [ 489064.19  470000.  ]\n",
      " [ 366294.33  171800.  ]\n",
      " [ 504304.87  229500.  ]\n",
      " [ 577388.7   585188.  ]\n",
      " [ 400352.99  425000.  ]\n",
      " [ 478560.74  430000.  ]\n",
      " [1438989.55 1225000.  ]\n",
      " [ 522387.25  285000.  ]\n",
      " [ 686825.34 1450000.  ]\n",
      " [ 388447.27  310000.  ]\n",
      " [1045339.15  917500.  ]\n",
      " [ 404267.31  455000.  ]\n",
      " [ 383457.75  479950.  ]\n",
      " [ 312948.    188500.  ]\n",
      " [ 998134.65  650000.  ]\n",
      " [ 826459.12  832500.  ]\n",
      " [ 529840.55  269950.  ]\n",
      " [ 599314.35  416000.  ]\n",
      " [ 240283.93  212000.  ]\n",
      " [ 474045.94  349000.  ]\n",
      " [ 495046.2   328000.  ]\n",
      " [ 811551.75  680000.  ]\n",
      " [ 341399.54  189000.  ]\n",
      " [ 663090.89  840000.  ]\n",
      " [ 726795.83  650000.  ]\n",
      " [ 288301.1   325000.  ]\n",
      " [ 253780.77  291850.  ]\n",
      " [ 396657.9   235000.  ]\n",
      " [ 373676.46  260000.  ]\n",
      " [ 706308.75  890000.  ]\n",
      " [ 489602.41  255000.  ]\n",
      " [ 357870.43  477000.  ]\n",
      " [ 535891.37  445000.  ]\n",
      " [ 385228.24  430000.  ]\n",
      " [ 553249.12  597750.  ]\n",
      " [ 504463.79  555000.  ]\n",
      " [ 281236.66  535000.  ]\n",
      " [ 316866.44  215000.  ]\n",
      " [ 217831.01  519950.  ]\n",
      " [ 573857.91  325000.  ]\n",
      " [1186537.75  472000.  ]\n",
      " [ 489319.42  464000.  ]\n",
      " [ 451313.37  243500.  ]\n",
      " [ 469089.59  395000.  ]\n",
      " [ 769340.81  770000.  ]\n",
      " [ 566826.77  589000.  ]\n",
      " [ 796771.39  835000.  ]\n",
      " [ 417983.85  510000.  ]\n",
      " [ 280302.5   230000.  ]\n",
      " [ 301940.35  289000.  ]\n",
      " [ 208431.16  395000.  ]\n",
      " [ 349013.38  600000.  ]\n",
      " [ 679696.96  975000.  ]\n",
      " [ 655654.35  937000.  ]]\n"
     ]
    }
   ],
   "source": [
    "np.set_printoptions(precision=2)\n",
    "print(np.concatenate((y_pred.reshape(len(y_pred),1), y_test.reshape(len(y_test),1)),1))"
   ]
  },
  {
   "cell_type": "code",
   "execution_count": 10,
   "id": "joined-burns",
   "metadata": {},
   "outputs": [
    {
     "name": "stdout",
     "output_type": "stream",
     "text": [
      "[-1.80e+04 -5.29e+04  2.07e+02  1.50e-01 -1.44e+04  1.01e+02  1.05e+02]\n",
      "73888.25753011584\n",
      "0.3999284100507383\n"
     ]
    }
   ],
   "source": [
    "from sklearn.metrics import r2_score\n",
    "print(regressor.coef_)\n",
    "print(regressor.intercept_)\n",
    "print(r2_score(y_test, y_pred))"
   ]
  },
  {
   "attachments": {},
   "cell_type": "markdown",
   "id": "alien-campaign",
   "metadata": {},
   "source": [
    "bedrooms*-1800 + bathrooms*(-5290)\tsqft_living\tsqft_lot\tfloors\tsqft_above sqft_basement"
   ]
  }
 ],
 "metadata": {
  "kernelspec": {
   "display_name": "Python 3",
   "language": "python",
   "name": "python3"
  },
  "language_info": {
   "codemirror_mode": {
    "name": "ipython",
    "version": 3
   },
   "file_extension": ".py",
   "mimetype": "text/x-python",
   "name": "python",
   "nbconvert_exporter": "python",
   "pygments_lexer": "ipython3",
   "version": "3.8.5"
  }
 },
 "nbformat": 4,
 "nbformat_minor": 5
}
