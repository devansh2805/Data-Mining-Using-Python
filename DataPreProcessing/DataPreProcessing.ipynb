{
 "cells": [
  {
   "cell_type": "markdown",
   "id": "velvet-mechanism",
   "metadata": {},
   "source": [
    "## Importing Libraries"
   ]
  },
  {
   "cell_type": "code",
   "execution_count": 1,
   "id": "adolescent-settle",
   "metadata": {},
   "outputs": [],
   "source": [
    "import pandas as pd\n",
    "import numpy as np"
   ]
  },
  {
   "cell_type": "markdown",
   "id": "casual-premiere",
   "metadata": {},
   "source": [
    "## Importing Dataset"
   ]
  },
  {
   "cell_type": "code",
   "execution_count": 2,
   "id": "desperate-ribbon",
   "metadata": {},
   "outputs": [],
   "source": [
    "dataset = pd.read_csv(\"melb_data.csv\")\n",
    "X = dataset.iloc[:,1:5].values\n",
    "y = dataset.iloc[:,0].values"
   ]
  },
  {
   "cell_type": "code",
   "execution_count": 3,
   "id": "curious-grill",
   "metadata": {},
   "outputs": [
    {
     "name": "stdout",
     "output_type": "stream",
     "text": [
      "Suburb             0\n",
      "Type               0\n",
      "Price              0\n",
      "BuildingArea    6450\n",
      "YearBuilt       5375\n",
      "dtype: int64\n"
     ]
    }
   ],
   "source": [
    "print(dataset.isna().sum())"
   ]
  },
  {
   "cell_type": "code",
   "execution_count": 4,
   "id": "wired-century",
   "metadata": {},
   "outputs": [
    {
     "name": "stdout",
     "output_type": "stream",
     "text": [
      "[['h' 1480000 nan nan]\n",
      " ['h' 1035000 79.0 1900.0]\n",
      " ['h' 1465000 150.0 1900.0]\n",
      " ...\n",
      " ['h' 1170000 nan 1997.0]\n",
      " ['h' 2500000 157.0 1920.0]\n",
      " ['h' 1285000 112.0 1920.0]]\n"
     ]
    }
   ],
   "source": [
    "print(X)"
   ]
  },
  {
   "cell_type": "code",
   "execution_count": 5,
   "id": "applicable-happening",
   "metadata": {},
   "outputs": [
    {
     "name": "stdout",
     "output_type": "stream",
     "text": [
      "['Abbotsford' 'Abbotsford' 'Abbotsford' ... 'Williamstown' 'Williamstown'\n",
      " 'Yarraville']\n"
     ]
    }
   ],
   "source": [
    "print(y)"
   ]
  },
  {
   "cell_type": "markdown",
   "id": "mediterranean-hardware",
   "metadata": {},
   "source": [
    "## Taking care of Missing Data"
   ]
  },
  {
   "cell_type": "code",
   "execution_count": 6,
   "id": "champion-commissioner",
   "metadata": {},
   "outputs": [],
   "source": [
    "from sklearn.impute import SimpleImputer\n",
    "imputer= SimpleImputer(missing_values=np.nan, strategy=\"mean\")\n",
    "imputer = imputer.fit(X[:,1:])\n",
    "X[:,1:] = imputer.transform(X[:,1:])"
   ]
  },
  {
   "cell_type": "code",
   "execution_count": 7,
   "id": "cordless-batman",
   "metadata": {},
   "outputs": [
    {
     "name": "stdout",
     "output_type": "stream",
     "text": [
      "[['h' 1480000.0 151.96764988779805 1964.6842169408897]\n",
      " ['h' 1035000.0 79.0 1900.0]\n",
      " ['h' 1465000.0 150.0 1900.0]\n",
      " ...\n",
      " ['h' 1170000.0 151.96764988779805 1997.0]\n",
      " ['h' 2500000.0 157.0 1920.0]\n",
      " ['h' 1285000.0 112.0 1920.0]]\n"
     ]
    }
   ],
   "source": [
    "print(X)"
   ]
  },
  {
   "cell_type": "markdown",
   "id": "optical-ecology",
   "metadata": {},
   "source": [
    "## Encoding Independent Variable"
   ]
  },
  {
   "cell_type": "code",
   "execution_count": 8,
   "id": "pretty-catch",
   "metadata": {},
   "outputs": [],
   "source": [
    "from sklearn.compose import ColumnTransformer\n",
    "from sklearn.preprocessing import OneHotEncoder\n",
    "column_transformer = ColumnTransformer(transformers=[('encoder', OneHotEncoder(), [0])], remainder='passthrough')\n",
    "X = np.array(column_transformer.fit_transform(X))"
   ]
  },
  {
   "cell_type": "code",
   "execution_count": 9,
   "id": "informational-ridge",
   "metadata": {},
   "outputs": [
    {
     "name": "stdout",
     "output_type": "stream",
     "text": [
      "[[1.0 0.0 0.0 1480000.0 151.96764988779805 1964.6842169408897]\n",
      " [1.0 0.0 0.0 1035000.0 79.0 1900.0]\n",
      " [1.0 0.0 0.0 1465000.0 150.0 1900.0]\n",
      " ...\n",
      " [1.0 0.0 0.0 1170000.0 151.96764988779805 1997.0]\n",
      " [1.0 0.0 0.0 2500000.0 157.0 1920.0]\n",
      " [1.0 0.0 0.0 1285000.0 112.0 1920.0]]\n"
     ]
    }
   ],
   "source": [
    "print(X)"
   ]
  },
  {
   "cell_type": "markdown",
   "id": "brilliant-native",
   "metadata": {},
   "source": [
    "## Encoding Dependent Variable"
   ]
  },
  {
   "cell_type": "code",
   "execution_count": 10,
   "id": "motivated-basketball",
   "metadata": {},
   "outputs": [],
   "source": [
    "from sklearn.preprocessing import LabelEncoder\n",
    "labelencoder = LabelEncoder()\n",
    "y = labelencoder.fit_transform(y)"
   ]
  },
  {
   "cell_type": "code",
   "execution_count": 11,
   "id": "modified-motel",
   "metadata": {},
   "outputs": [
    {
     "name": "stdout",
     "output_type": "stream",
     "text": [
      "[  0   0   0 ... 305 305 313]\n"
     ]
    }
   ],
   "source": [
    "print(y)"
   ]
  },
  {
   "cell_type": "markdown",
   "id": "proud-broadcasting",
   "metadata": {},
   "source": [
    "## Feature Scaling"
   ]
  },
  {
   "cell_type": "code",
   "execution_count": 12,
   "id": "oriental-treasurer",
   "metadata": {},
   "outputs": [],
   "source": [
    "from sklearn.preprocessing import StandardScaler\n",
    "standardscaler = StandardScaler()\n",
    "X[:, 3:] = standardscaler.fit_transform(X[:, 3:])"
   ]
  },
  {
   "cell_type": "code",
   "execution_count": 13,
   "id": "caring-operation",
   "metadata": {},
   "outputs": [
    {
     "name": "stdout",
     "output_type": "stream",
     "text": [
      "[[1.0 0.0 0.0 0.6324480294931559 1.6894010452623133e-14\n",
      "  -8.86069836744998e-12]\n",
      " [1.0 0.0 0.0 -0.06363975439906099 -0.1861474114371596 -2.232709157684046]\n",
      " [1.0 0.0 0.0 0.6089843963282496 -0.005019661915797484 -2.232709157684046]\n",
      " ...\n",
      " [1.0 0.0 0.0 0.14753294408509468 1.6894010452623133e-14\n",
      "  1.115445902960865]\n",
      " [1.0 0.0 0.0 2.2279750847067765 0.012838003529970611 -1.5423679080665387]\n",
      " [1.0 0.0 0.0 0.32742079834937543 -0.10196127433568143\n",
      "  -1.5423679080665387]]\n"
     ]
    }
   ],
   "source": [
    "print(X)"
   ]
  },
  {
   "cell_type": "code",
   "execution_count": null,
   "id": "public-binary",
   "metadata": {},
   "outputs": [],
   "source": []
  }
 ],
 "metadata": {
  "kernelspec": {
   "display_name": "Python 3",
   "language": "python",
   "name": "python3"
  },
  "language_info": {
   "codemirror_mode": {
    "name": "ipython",
    "version": 3
   },
   "file_extension": ".py",
   "mimetype": "text/x-python",
   "name": "python",
   "nbconvert_exporter": "python",
   "pygments_lexer": "ipython3",
   "version": "3.8.5"
  }
 },
 "nbformat": 4,
 "nbformat_minor": 5
}
