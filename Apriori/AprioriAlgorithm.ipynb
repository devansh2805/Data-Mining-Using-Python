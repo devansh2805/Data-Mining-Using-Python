{
 "cells": [
  {
   "cell_type": "markdown",
   "id": "governmental-motivation",
   "metadata": {},
   "source": [
    "Importing Dataset"
   ]
  },
  {
   "cell_type": "code",
   "execution_count": 1,
   "id": "handed-masters",
   "metadata": {},
   "outputs": [
    {
     "name": "stdout",
     "output_type": "stream",
     "text": [
      "(9834, 32)\n"
     ]
    }
   ],
   "source": [
    "import pandas as pd\n",
    "dataset = pd.read_csv('data.csv')\n",
    "print(dataset.shape)"
   ]
  },
  {
   "cell_type": "markdown",
   "id": "little-modern",
   "metadata": {},
   "source": [
    "Dataset to List of List"
   ]
  },
  {
   "cell_type": "code",
   "execution_count": 2,
   "id": "inner-compatibility",
   "metadata": {},
   "outputs": [],
   "source": [
    "transactions = []\n",
    "for i in range(0, 9834):\n",
    "     transactions.append([str(dataset.values[i,j]) for j in range(0, 32)])"
   ]
  },
  {
   "cell_type": "markdown",
   "id": "filled-wheat",
   "metadata": {},
   "source": [
    "Getting Association Rules\n",
    "\n",
    "Minimum support  = 3(3 times a day) * 7 (7 days a week) / 9834 = 0.0022\n",
    "\n",
    "Minimum confidence = 0.70\n",
    "\n",
    "Minimum lift = 3.\n"
   ]
  },
  {
   "cell_type": "code",
   "execution_count": 3,
   "id": "instrumental-rhythm",
   "metadata": {},
   "outputs": [],
   "source": [
    "from apyori import apriori\n",
    "rules = apriori(transactions = transactions, min_support = 0.0022, min_confidence = 0.7, min_lift = 3, min_length = 2, max_length=10)"
   ]
  },
  {
   "cell_type": "code",
   "execution_count": 4,
   "id": "obvious-investing",
   "metadata": {},
   "outputs": [
    {
     "name": "stdout",
     "output_type": "stream",
     "text": [
      "frozenset({'baking powder', 'root vegetables'})->frozenset({'other vegetables'})\n",
      "frozenset({'curd', 'hamburger meat'})->frozenset({'whole milk'})\n",
      "frozenset({'herbs', 'rolls/buns'})->frozenset({'whole milk'})\n",
      "frozenset({'herbs', 'tropical fruit'})->frozenset({'whole milk'})\n",
      "frozenset({'rice', 'root vegetables'})->frozenset({'other vegetables'})\n",
      "frozenset({'soft cheese', 'root vegetables'})->frozenset({'other vegetables'})\n",
      "frozenset({'soft cheese', 'whipped/sour cream'})->frozenset({'other vegetables'})\n",
      "frozenset({'rice', 'root vegetables'})->frozenset({'whole milk'})\n",
      "frozenset({'baking powder', 'root vegetables'})->frozenset({'other vegetables', 'nan'})\n",
      "frozenset({'tropical fruit', 'beef', 'root vegetables'})->frozenset({'other vegetables'})\n",
      "frozenset({'other vegetables', 'brown bread', 'root vegetables'})->frozenset({'whole milk'})\n",
      "frozenset({'butter', 'curd', 'yogurt'})->frozenset({'whole milk'})\n",
      "frozenset({'butter', 'other vegetables', 'pork'})->frozenset({'whole milk'})\n",
      "frozenset({'butter', 'whipped/sour cream', 'tropical fruit'})->frozenset({'other vegetables'})\n",
      "frozenset({'butter', 'yogurt', 'root vegetables'})->frozenset({'whole milk'})\n",
      "frozenset({'tropical fruit', 'citrus fruit', 'root vegetables'})->frozenset({'other vegetables'})\n",
      "frozenset({'curd', 'other vegetables', 'domestic eggs'})->frozenset({'whole milk'})\n",
      "frozenset({'curd', 'hamburger meat'})->frozenset({'whole milk', 'nan'})\n",
      "frozenset({'tropical fruit', 'domestic eggs', 'root vegetables'})->frozenset({'whole milk'})\n",
      "frozenset({'frozen vegetables', 'tropical fruit', 'root vegetables'})->frozenset({'whole milk'})\n",
      "frozenset({'tropical fruit', 'root vegetables', 'fruit/vegetable juice'})->frozenset({'other vegetables'})\n",
      "frozenset({'yogurt', 'root vegetables', 'fruit/vegetable juice'})->frozenset({'other vegetables'})\n",
      "frozenset({'herbs', 'rolls/buns'})->frozenset({'whole milk', 'nan'})\n",
      "frozenset({'herbs', 'tropical fruit'})->frozenset({'whole milk', 'nan'})\n",
      "frozenset({'rice', 'root vegetables'})->frozenset({'other vegetables', 'nan'})\n",
      "frozenset({'soft cheese', 'nan', 'root vegetables'})->frozenset({'other vegetables'})\n",
      "frozenset({'rice', 'root vegetables'})->frozenset({'whole milk', 'nan'})\n",
      "frozenset({'oil', 'yogurt', 'whole milk'})->frozenset({'other vegetables'})\n",
      "frozenset({'whole milk', 'pip fruit', 'pork'})->frozenset({'other vegetables'})\n",
      "frozenset({'pip fruit', 'whipped/sour cream', 'tropical fruit'})->frozenset({'other vegetables'})\n",
      "frozenset({'whole milk', 'sliced cheese', 'root vegetables'})->frozenset({'other vegetables'})\n",
      "frozenset({'tropical fruit', 'whipped/sour cream', 'root vegetables'})->frozenset({'other vegetables'})\n",
      "frozenset({'pip fruit', 'whipped/sour cream', 'root vegetables'})->frozenset({'whole milk'})\n",
      "frozenset({'tropical fruit', 'sausage', 'root vegetables'})->frozenset({'whole milk'})\n",
      "frozenset({'tropical fruit', 'beef', 'root vegetables'})->frozenset({'other vegetables', 'nan'})\n",
      "frozenset({'other vegetables', 'brown bread', 'root vegetables'})->frozenset({'whole milk', 'nan'})\n",
      "frozenset({'butter', 'curd', 'yogurt', 'nan'})->frozenset({'whole milk'})\n",
      "frozenset({'butter', 'other vegetables', 'pork'})->frozenset({'whole milk', 'nan'})\n",
      "frozenset({'butter', 'whipped/sour cream', 'tropical fruit'})->frozenset({'other vegetables', 'nan'})\n",
      "frozenset({'butter', 'yogurt', 'nan', 'root vegetables'})->frozenset({'whole milk'})\n",
      "frozenset({'butter', 'yogurt', 'other vegetables', 'tropical fruit'})->frozenset({'whole milk'})\n",
      "frozenset({'tropical fruit', 'citrus fruit', 'root vegetables'})->frozenset({'other vegetables', 'nan'})\n",
      "frozenset({'whole milk', 'tropical fruit', 'citrus fruit', 'root vegetables'})->frozenset({'other vegetables'})\n",
      "frozenset({'other vegetables', 'yogurt', 'citrus fruit', 'root vegetables'})->frozenset({'whole milk'})\n",
      "frozenset({'other vegetables', 'yogurt', 'citrus fruit', 'tropical fruit'})->frozenset({'whole milk'})\n",
      "frozenset({'curd', 'other vegetables', 'domestic eggs'})->frozenset({'whole milk', 'nan'})\n",
      "frozenset({'frozen vegetables', 'tropical fruit', 'root vegetables'})->frozenset({'whole milk', 'nan'})\n",
      "frozenset({'tropical fruit', 'root vegetables', 'fruit/vegetable juice'})->frozenset({'other vegetables', 'nan'})\n",
      "frozenset({'yogurt', 'root vegetables', 'fruit/vegetable juice'})->frozenset({'other vegetables', 'nan'})\n",
      "frozenset({'oil', 'yogurt', 'whole milk'})->frozenset({'other vegetables', 'nan'})\n",
      "frozenset({'whole milk', 'pip fruit', 'pork'})->frozenset({'other vegetables', 'nan'})\n",
      "frozenset({'pip fruit', 'whipped/sour cream', 'tropical fruit'})->frozenset({'other vegetables', 'nan'})\n",
      "frozenset({'whole milk', 'sliced cheese', 'root vegetables'})->frozenset({'other vegetables', 'nan'})\n",
      "frozenset({'tropical fruit', 'whipped/sour cream', 'root vegetables'})->frozenset({'other vegetables', 'nan'})\n",
      "frozenset({'pip fruit', 'whipped/sour cream', 'root vegetables'})->frozenset({'whole milk', 'nan'})\n",
      "frozenset({'whole milk', 'tropical fruit', 'pip fruit', 'root vegetables'})->frozenset({'other vegetables'})\n",
      "frozenset({'other vegetables', 'yogurt', 'pip fruit', 'root vegetables'})->frozenset({'whole milk'})\n",
      "frozenset({'yogurt', 'tropical fruit', 'rolls/buns', 'root vegetables'})->frozenset({'whole milk'})\n",
      "frozenset({'whole milk', 'tropical fruit', 'citrus fruit', 'root vegetables'})->frozenset({'other vegetables', 'nan'})\n",
      "frozenset({'other vegetables', 'yogurt', 'citrus fruit', 'root vegetables'})->frozenset({'whole milk', 'nan'})\n",
      "frozenset({'yogurt', 'tropical fruit', 'other vegetables', 'citrus fruit', 'nan'})->frozenset({'whole milk'})\n",
      "frozenset({'whole milk', 'tropical fruit', 'pip fruit', 'root vegetables'})->frozenset({'other vegetables', 'nan'})\n",
      "frozenset({'other vegetables', 'yogurt', 'pip fruit', 'root vegetables'})->frozenset({'whole milk', 'nan'})\n"
     ]
    }
   ],
   "source": [
    "results = list(rules)\n",
    "for data in results:\n",
    "    print(str(data[2][0][0]) + \"->\" + str(data[2][0][1]))"
   ]
  },
  {
   "cell_type": "markdown",
   "id": "proper-nashville",
   "metadata": {},
   "source": [
    "Writing Results as Pandas DataFrame"
   ]
  },
  {
   "cell_type": "code",
   "execution_count": 5,
   "id": "actual-frederick",
   "metadata": {},
   "outputs": [],
   "source": [
    "def inspect(results):\n",
    "    lhs         = [tuple(result[2][0][0])[0] for result in results]\n",
    "    rhs         = [tuple(result[2][0][1])[0] for result in results]\n",
    "    supports    = [result[1] for result in results]\n",
    "    confidences = [result[2][0][2] for result in results]\n",
    "    lifts       = [result[2][0][3] for result in results]\n",
    "    return list(zip(lhs, rhs, supports, confidences, lifts))\n",
    "readable_results = pd.DataFrame(inspect(results), columns = ['Item1', 'Item2', 'Support', 'Confidence', 'Lift'])"
   ]
  },
  {
   "cell_type": "code",
   "execution_count": 6,
   "id": "administrative-throw",
   "metadata": {},
   "outputs": [
    {
     "data": {
      "text/html": [
       "<div>\n",
       "<style scoped>\n",
       "    .dataframe tbody tr th:only-of-type {\n",
       "        vertical-align: middle;\n",
       "    }\n",
       "\n",
       "    .dataframe tbody tr th {\n",
       "        vertical-align: top;\n",
       "    }\n",
       "\n",
       "    .dataframe thead th {\n",
       "        text-align: right;\n",
       "    }\n",
       "</style>\n",
       "<table border=\"1\" class=\"dataframe\">\n",
       "  <thead>\n",
       "    <tr style=\"text-align: right;\">\n",
       "      <th></th>\n",
       "      <th>Item1</th>\n",
       "      <th>Item2</th>\n",
       "      <th>Support</th>\n",
       "      <th>Confidence</th>\n",
       "      <th>Lift</th>\n",
       "    </tr>\n",
       "  </thead>\n",
       "  <tbody>\n",
       "    <tr>\n",
       "      <th>0</th>\n",
       "      <td>baking powder</td>\n",
       "      <td>other vegetables</td>\n",
       "      <td>0.002542</td>\n",
       "      <td>0.714286</td>\n",
       "      <td>3.691164</td>\n",
       "    </tr>\n",
       "    <tr>\n",
       "      <th>1</th>\n",
       "      <td>curd</td>\n",
       "      <td>whole milk</td>\n",
       "      <td>0.002542</td>\n",
       "      <td>0.806452</td>\n",
       "      <td>3.155848</td>\n",
       "    </tr>\n",
       "    <tr>\n",
       "      <th>2</th>\n",
       "      <td>herbs</td>\n",
       "      <td>whole milk</td>\n",
       "      <td>0.002441</td>\n",
       "      <td>0.800000</td>\n",
       "      <td>3.130601</td>\n",
       "    </tr>\n",
       "    <tr>\n",
       "      <th>3</th>\n",
       "      <td>herbs</td>\n",
       "      <td>whole milk</td>\n",
       "      <td>0.002339</td>\n",
       "      <td>0.821429</td>\n",
       "      <td>3.214456</td>\n",
       "    </tr>\n",
       "    <tr>\n",
       "      <th>4</th>\n",
       "      <td>rice</td>\n",
       "      <td>other vegetables</td>\n",
       "      <td>0.002237</td>\n",
       "      <td>0.709677</td>\n",
       "      <td>3.667350</td>\n",
       "    </tr>\n",
       "    <tr>\n",
       "      <th>...</th>\n",
       "      <td>...</td>\n",
       "      <td>...</td>\n",
       "      <td>...</td>\n",
       "      <td>...</td>\n",
       "      <td>...</td>\n",
       "    </tr>\n",
       "    <tr>\n",
       "      <th>58</th>\n",
       "      <td>whole milk</td>\n",
       "      <td>other vegetables</td>\n",
       "      <td>0.003051</td>\n",
       "      <td>0.857143</td>\n",
       "      <td>4.431726</td>\n",
       "    </tr>\n",
       "    <tr>\n",
       "      <th>59</th>\n",
       "      <td>other vegetables</td>\n",
       "      <td>whole milk</td>\n",
       "      <td>0.002237</td>\n",
       "      <td>0.785714</td>\n",
       "      <td>3.075921</td>\n",
       "    </tr>\n",
       "    <tr>\n",
       "      <th>60</th>\n",
       "      <td>yogurt</td>\n",
       "      <td>whole milk</td>\n",
       "      <td>0.002339</td>\n",
       "      <td>0.766667</td>\n",
       "      <td>3.000159</td>\n",
       "    </tr>\n",
       "    <tr>\n",
       "      <th>61</th>\n",
       "      <td>whole milk</td>\n",
       "      <td>other vegetables</td>\n",
       "      <td>0.002441</td>\n",
       "      <td>0.774194</td>\n",
       "      <td>4.002849</td>\n",
       "    </tr>\n",
       "    <tr>\n",
       "      <th>62</th>\n",
       "      <td>other vegetables</td>\n",
       "      <td>whole milk</td>\n",
       "      <td>0.002339</td>\n",
       "      <td>0.793103</td>\n",
       "      <td>3.104848</td>\n",
       "    </tr>\n",
       "  </tbody>\n",
       "</table>\n",
       "<p>63 rows × 5 columns</p>\n",
       "</div>"
      ],
      "text/plain": [
       "               Item1             Item2   Support  Confidence      Lift\n",
       "0      baking powder  other vegetables  0.002542    0.714286  3.691164\n",
       "1               curd        whole milk  0.002542    0.806452  3.155848\n",
       "2              herbs        whole milk  0.002441    0.800000  3.130601\n",
       "3              herbs        whole milk  0.002339    0.821429  3.214456\n",
       "4               rice  other vegetables  0.002237    0.709677  3.667350\n",
       "..               ...               ...       ...         ...       ...\n",
       "58        whole milk  other vegetables  0.003051    0.857143  4.431726\n",
       "59  other vegetables        whole milk  0.002237    0.785714  3.075921\n",
       "60            yogurt        whole milk  0.002339    0.766667  3.000159\n",
       "61        whole milk  other vegetables  0.002441    0.774194  4.002849\n",
       "62  other vegetables        whole milk  0.002339    0.793103  3.104848\n",
       "\n",
       "[63 rows x 5 columns]"
      ]
     },
     "execution_count": 6,
     "metadata": {},
     "output_type": "execute_result"
    }
   ],
   "source": [
    "readable_results"
   ]
  },
  {
   "cell_type": "code",
   "execution_count": null,
   "id": "gross-gamma",
   "metadata": {},
   "outputs": [],
   "source": []
  }
 ],
 "metadata": {
  "kernelspec": {
   "display_name": "Python 3",
   "language": "python",
   "name": "python3"
  },
  "language_info": {
   "codemirror_mode": {
    "name": "ipython",
    "version": 3
   },
   "file_extension": ".py",
   "mimetype": "text/x-python",
   "name": "python",
   "nbconvert_exporter": "python",
   "pygments_lexer": "ipython3",
   "version": "3.8.5"
  }
 },
 "nbformat": 4,
 "nbformat_minor": 5
}
